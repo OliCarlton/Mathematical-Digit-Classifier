{
 "cells": [
  {
   "cell_type": "code",
   "execution_count": null,
   "metadata": {},
   "outputs": [],
   "source": [
    "from keras.models import load_model\n",
    "from keras.preprocessing.image import load_img\n",
    "from keras.preprocessing.image import img_to_array\n",
    "from keras.applications.vgg16 import preprocess_input\n",
    "from keras.applications.vgg16 import decode_predictions\n",
    "from keras.applications.vgg16 import VGG16\n",
    "import numpy as np\n",
    " \n",
    "from keras.models import load_model\n",
    " \n",
    "model = load_model('CNN.model')\n",
    " \n",
    "image = load_img('test2.jpg', target_size=(45, 45))\n",
    "img = np.array(image)\n",
    "img = img / 255.0\n",
    "img = img.reshape(1,45,45,3)\n",
    "print(np.argmax(model.predict(img), axis=-1))"
   ]
  }
 ],
 "metadata": {
  "interpreter": {
   "hash": "b011b6e5b708b74045f1380c285b960d46e114b8b94740e05fe2f6d5e1249f96"
  },
  "kernelspec": {
   "display_name": "Python 3.9.7 64-bit ('ProjectML': conda)",
   "language": "python",
   "name": "python3"
  },
  "language_info": {
   "codemirror_mode": {
    "name": "ipython",
    "version": 3
   },
   "file_extension": ".py",
   "mimetype": "text/x-python",
   "name": "python",
   "nbconvert_exporter": "python",
   "pygments_lexer": "ipython3",
   "version": "3.9.7"
  },
  "orig_nbformat": 4
 },
 "nbformat": 4,
 "nbformat_minor": 2
}
