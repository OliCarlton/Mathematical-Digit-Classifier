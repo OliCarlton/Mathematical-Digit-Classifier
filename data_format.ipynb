{
 "cells": [
  {
   "cell_type": "code",
   "execution_count": 34,
   "metadata": {},
   "outputs": [],
   "source": [
    "# Format the dataset\n",
    "import os\n",
    "import math\n",
    "from shutil import copyfile\n",
    "\n",
    "directory = 'dataset'\n",
    "\n",
    "train_dir = os.path.join(directory,'train')\n",
    "test_dir = os.path.join(directory, 'test')\n",
    "\n",
    "if not os.path.exists(train_dir):\n",
    "    os.makedirs(train_dir)\n",
    "if not os.path.exists(test_dir):\n",
    "    os.makedirs(test_dir)"
   ]
  },
  {
   "cell_type": "code",
   "execution_count": 35,
   "metadata": {},
   "outputs": [],
   "source": [
    "for subdirectory in os.listdir(directory):\n",
    "    if subdirectory == \"train\" or subdirectory == \"test\":\n",
    "        continue\n",
    "    \n",
    "    location = os.path.join(directory,subdirectory)\n",
    "    count = len(os.listdir(location))\n",
    "\n",
    "    eighty = math.floor((count*0.8))\n",
    "    twenty = math.ceil((count*0.2))\n",
    "    \n",
    "    count2 = 0\n",
    "    for file in os.listdir(location):\n",
    "        if count2 <= eighty:\n",
    "            count2 += 1\n",
    "            if not os.path.exists(os.path.join(train_dir,subdirectory)):\n",
    "                os.makedirs(os.path.join(train_dir,subdirectory))\n",
    "            copyfile(os.path.join(location,file),os.path.join(train_dir,subdirectory,file))\n",
    "        else:\n",
    "            count2 += 1\n",
    "            if not os.path.exists(os.path.join(test_dir,subdirectory)):\n",
    "                os.makedirs(os.path.join(test_dir,subdirectory))\n",
    "            copyfile(os.path.join(location,file),os.path.join(test_dir,subdirectory,file))\n",
    "        "
   ]
  }
 ],
 "metadata": {
  "interpreter": {
   "hash": "b011b6e5b708b74045f1380c285b960d46e114b8b94740e05fe2f6d5e1249f96"
  },
  "kernelspec": {
   "display_name": "Python 3.9.7 64-bit ('ProjectML': conda)",
   "language": "python",
   "name": "python3"
  },
  "language_info": {
   "codemirror_mode": {
    "name": "ipython",
    "version": 3
   },
   "file_extension": ".py",
   "mimetype": "text/x-python",
   "name": "python",
   "nbconvert_exporter": "python",
   "pygments_lexer": "ipython3",
   "version": "3.9.7"
  },
  "orig_nbformat": 4
 },
 "nbformat": 4,
 "nbformat_minor": 2
}
